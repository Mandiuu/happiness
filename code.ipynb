{
 "cells": [
  {
   "cell_type": "code",
   "execution_count": 1,
   "metadata": {},
   "outputs": [
    {
     "name": "stderr",
     "output_type": "stream",
     "text": [
      "During startup - Warning messages:\n",
      "1: Setting LC_COLLATE failed, using \"C\" \n",
      "2: Setting LC_TIME failed, using \"C\" \n",
      "3: Setting LC_MESSAGES failed, using \"C\" \n",
      "4: Setting LC_MONETARY failed, using \"C\" \n"
     ]
    }
   ],
   "source": [
    "%load_ext rpy2.ipython\n",
    "%load_ext autoreload\n",
    "%autoreload 2\n",
    "\n",
    "%matplotlib inline  \n",
    "from matplotlib import rcParams\n",
    "rcParams['figure.figsize'] = (16, 100)\n",
    "\n",
    "import warnings\n",
    "from rpy2.rinterface import RRuntimeWarning\n",
    "warnings.filterwarnings(\"ignore\") # Ignore all warnings\n",
    "# warnings.filterwarnings(\"ignore\", category=RRuntimeWarning) # Show some warnings\n",
    "\n",
    "import pandas as pd\n",
    "import numpy as np\n",
    "import matplotlib.pyplot as plt\n",
    "from IPython.display import display, HTML\n",
    "\n",
    "plt.rcParams['svg.fonttype'] = 'none'"
   ]
  },
  {
   "cell_type": "code",
   "execution_count": 2,
   "metadata": {},
   "outputs": [
    {
     "data": {
      "application/javascript": "// Disable auto-scrolling\nIPython.OutputArea.prototype._should_scroll = function(lines) {\n    return false;\n}\n",
      "text/plain": [
       "<IPython.core.display.Javascript object>"
      ]
     },
     "metadata": {},
     "output_type": "display_data"
    }
   ],
   "source": [
    "%%javascript\n",
    "// Disable auto-scrolling\n",
    "IPython.OutputArea.prototype._should_scroll = function(lines) {\n",
    "    return false;\n",
    "}"
   ]
  },
  {
   "cell_type": "code",
   "execution_count": 3,
   "metadata": {},
   "outputs": [],
   "source": [
    "%%R\n",
    "library(ggplot2)\n",
    "library(readxl)"
   ]
  },
  {
   "cell_type": "code",
   "execution_count": 4,
   "metadata": {},
   "outputs": [
    {
     "name": "stdout",
     "output_type": "stream",
     "text": [
      "# A tibble: 143 × 2\n",
      "   `Country name`            `GDP per capita`\n",
      "   <chr>                                <dbl>\n",
      " 1 Luxembourg                            2.14\n",
      " 2 Ireland                               2.13\n",
      " 3 Singapore                             2.12\n",
      " 4 United Arab Emirates                  1.98\n",
      " 5 Switzerland                           1.97\n",
      " 6 Norway                                1.95\n",
      " 7 United States                         1.94\n",
      " 8 Hong Kong S.A.R. of China             1.91\n",
      " 9 Denmark                               1.91\n",
      "10 Netherlands                           1.90\n",
      "# ℹ 133 more rows\n",
      "# ℹ Use `print(n = ...)` to see more rows\n"
     ]
    },
    {
     "data": {
      "text/plain": [
       "\n",
       "Attaching package: ‘dplyr’\n",
       "\n",
       "The following objects are masked from ‘package:stats’:\n",
       "\n",
       "    filter, lag\n",
       "\n",
       "The following objects are masked from ‘package:base’:\n",
       "\n",
       "    intersect, setdiff, setequal, union\n",
       "\n"
      ]
     },
     "metadata": {},
     "output_type": "display_data"
    }
   ],
   "source": [
    "%%R\n",
    "library(readxl)\n",
    "library(dplyr)\n",
    "\n",
    "data <- read_excel(\"2024 data.xls\")\n",
    "\n",
    "sorted_data <- data %>%\n",
    "  arrange(desc(`GDP per capita`)) %>%\n",
    "  select(`Country name`, `GDP per capita`)\n",
    "\n",
    "print(sorted_data)"
   ]
  },
  {
   "cell_type": "code",
   "execution_count": 5,
   "metadata": {},
   "outputs": [
    {
     "name": "stdout",
     "output_type": "stream",
     "text": [
      "# A tibble: 143 × 2\n",
      "   `Country name` `Social support`\n",
      "   <chr>                     <dbl>\n",
      " 1 Afghanistan               0    \n",
      " 2 Benin                     0.128\n",
      " 3 Bangladesh                0.249\n",
      " 4 Comoros                   0.328\n",
      " 5 Malawi                    0.410\n",
      " 6 Morocco                   0.471\n",
      " 7 Sierra Leone              0.566\n",
      " 8 Lebanon                   0.577\n",
      " 9 Ivory Coast               0.578\n",
      "10 Togo                      0.586\n",
      "# ℹ 133 more rows\n",
      "# ℹ Use `print(n = ...)` to see more rows\n"
     ]
    }
   ],
   "source": [
    "%%R\n",
    "library(readxl)\n",
    "library(dplyr)\n",
    "\n",
    "data <- read_excel(\"2024 data.xls\")\n",
    "\n",
    "sorted_data <- data %>%\n",
    "  arrange((`Social support`)) %>%\n",
    "  select(`Country name`, `Social support`)\n",
    "\n",
    "print(sorted_data)"
   ]
  },
  {
   "cell_type": "code",
   "execution_count": 6,
   "metadata": {},
   "outputs": [
    {
     "name": "stdout",
     "output_type": "stream",
     "text": [
      "# A tibble: 143 × 2\n",
      "   `Country name` `Social support`\n",
      "   <chr>                     <dbl>\n",
      " 1 Iceland                    1.62\n",
      " 2 Finland                    1.57\n",
      " 3 Slovakia                   1.54\n",
      " 4 Hungary                    1.53\n",
      " 5 Estonia                    1.53\n",
      " 6 New Zealand                1.53\n",
      " 7 Denmark                    1.52\n",
      " 8 Norway                     1.52\n",
      " 9 Israel                     1.51\n",
      "10 Czechia                    1.51\n",
      "# ℹ 133 more rows\n",
      "# ℹ Use `print(n = ...)` to see more rows\n"
     ]
    }
   ],
   "source": [
    "%%R\n",
    "library(readxl)\n",
    "library(dplyr)\n",
    "\n",
    "data <- read_excel(\"2024 data.xls\")\n",
    "\n",
    "sorted_data <- data %>%\n",
    "  arrange(desc(`Social support`)) %>%\n",
    "  select(`Country name`, `Social support`)\n",
    "\n",
    "print(sorted_data)"
   ]
  },
  {
   "cell_type": "code",
   "execution_count": 7,
   "metadata": {},
   "outputs": [
    {
     "name": "stdout",
     "output_type": "stream",
     "text": [
      "# A tibble: 143 × 2\n",
      "   `Country name` `Freedom to make life choices`\n",
      "   <chr>                                   <dbl>\n",
      " 1 Cambodia                                0.863\n",
      " 2 Finland                                 0.859\n",
      " 3 Vietnam                                 0.843\n",
      " 4 Sweden                                  0.838\n",
      " 5 Norway                                  0.835\n",
      " 6 Uzbekistan                              0.835\n",
      " 7 Kyrgyzstan                              0.834\n",
      " 8 Malaysia                                0.829\n",
      " 9 Kuwait                                  0.827\n",
      "10 Philippines                             0.826\n",
      "# ℹ 133 more rows\n",
      "# ℹ Use `print(n = ...)` to see more rows\n"
     ]
    }
   ],
   "source": [
    "%%R\n",
    "library(readxl)\n",
    "library(dplyr)\n",
    "\n",
    "data <- read_excel(\"2024 data.xls\")\n",
    "\n",
    "sorted_data <- data %>%\n",
    "  arrange(desc(`Freedom to make life choices`)) %>%\n",
    "  select(`Country name`, `Freedom to make life choices`)\n",
    "\n",
    "print(sorted_data)"
   ]
  },
  {
   "cell_type": "code",
   "execution_count": 8,
   "metadata": {},
   "outputs": [
    {
     "name": "stdout",
     "output_type": "stream",
     "text": [
      "# A tibble: 1 × 7\n",
      "  `Country name` `GDP per capita` `Social support` `Healthy life expectancy`\n",
      "  <chr>                     <dbl>            <dbl>                     <dbl>\n",
      "1 Costa Rica                 1.56             1.37                     0.661\n",
      "# ℹ 3 more variables: `Freedom to make life choices` <dbl>, Generosity <dbl>,\n",
      "#   `Perceptions of corruption` <dbl>\n"
     ]
    }
   ],
   "source": [
    "%%R\n",
    "library(dplyr)\n",
    "library(readxl)\n",
    "\n",
    "data <- read_excel(\"2024 data.xls\")\n",
    "\n",
    "# Corrected filter and select statements\n",
    "costa_results <- data %>%\n",
    "  filter(`Country name` == \"Costa Rica\") %>%\n",
    "  select(`Country name`, `GDP per capita`, `Social support`, `Healthy life expectancy`, `Freedom to make life choices`, `Generosity`, `Perceptions of corruption`)\n",
    "\n",
    "print(costa_results)\n"
   ]
  },
  {
   "cell_type": "code",
   "execution_count": null,
   "metadata": {},
   "outputs": [],
   "source": []
  }
 ],
 "metadata": {
  "kernelspec": {
   "display_name": "Python 3",
   "language": "python",
   "name": "python3"
  },
  "language_info": {
   "codemirror_mode": {
    "name": "ipython",
    "version": 3
   },
   "file_extension": ".py",
   "mimetype": "text/x-python",
   "name": "python",
   "nbconvert_exporter": "python",
   "pygments_lexer": "ipython3",
   "version": "3.11.6"
  }
 },
 "nbformat": 4,
 "nbformat_minor": 2
}
